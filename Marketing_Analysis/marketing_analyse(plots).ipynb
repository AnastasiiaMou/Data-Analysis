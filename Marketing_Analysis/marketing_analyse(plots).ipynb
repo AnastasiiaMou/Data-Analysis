{
 "cells": [
  {
   "attachments": {},
   "cell_type": "markdown",
   "metadata": {},
   "source": [
    "# Import libraries\n"
   ]
  },
  {
   "cell_type": "code",
   "execution_count": 40,
   "metadata": {},
   "outputs": [],
   "source": [
    "import pandas as pd\n",
    "import numpy as np\n",
    "import seaborn as sns\n",
    "import matplotlib.pyplot as plt\n",
    "from matplotlib.patches import ConnectionPatch\n",
    "\n",
    "pd.options.display.float_format = '{:.2f}'.format"
   ]
  },
  {
   "attachments": {},
   "cell_type": "markdown",
   "metadata": {},
   "source": [
    "# Import data"
   ]
  },
  {
   "cell_type": "code",
   "execution_count": 5,
   "metadata": {},
   "outputs": [],
   "source": [
    "df = pd.read_excel(\"marketing_data.xlsx\")"
   ]
  },
  {
   "cell_type": "code",
   "execution_count": 6,
   "metadata": {},
   "outputs": [
    {
     "data": {
      "text/html": [
       "<div>\n",
       "<style scoped>\n",
       "    .dataframe tbody tr th:only-of-type {\n",
       "        vertical-align: middle;\n",
       "    }\n",
       "\n",
       "    .dataframe tbody tr th {\n",
       "        vertical-align: top;\n",
       "    }\n",
       "\n",
       "    .dataframe thead th {\n",
       "        text-align: right;\n",
       "    }\n",
       "</style>\n",
       "<table border=\"1\" class=\"dataframe\">\n",
       "  <thead>\n",
       "    <tr style=\"text-align: right;\">\n",
       "      <th></th>\n",
       "      <th>registration_date</th>\n",
       "      <th>traffic_type</th>\n",
       "      <th>id_partner</th>\n",
       "      <th>age_group</th>\n",
       "      <th>device</th>\n",
       "      <th>country_tier</th>\n",
       "      <th>registrations</th>\n",
       "      <th>users_acqusition_costs</th>\n",
       "      <th>revenue_7_days</th>\n",
       "      <th>logins_1_lt</th>\n",
       "      <th>logins_3_lt</th>\n",
       "      <th>logins_7_lt</th>\n",
       "    </tr>\n",
       "  </thead>\n",
       "  <tbody>\n",
       "    <tr>\n",
       "      <th>0</th>\n",
       "      <td>2021-06-24</td>\n",
       "      <td>Google Search</td>\n",
       "      <td>1</td>\n",
       "      <td>35-</td>\n",
       "      <td>iOS</td>\n",
       "      <td>Tier_1</td>\n",
       "      <td>60</td>\n",
       "      <td>220.0</td>\n",
       "      <td>2.99</td>\n",
       "      <td>5</td>\n",
       "      <td>3</td>\n",
       "      <td>1</td>\n",
       "    </tr>\n",
       "    <tr>\n",
       "      <th>1</th>\n",
       "      <td>2021-09-13</td>\n",
       "      <td>Google Search</td>\n",
       "      <td>1</td>\n",
       "      <td>35-</td>\n",
       "      <td>MacOS</td>\n",
       "      <td>Tier_1</td>\n",
       "      <td>8</td>\n",
       "      <td>0.0</td>\n",
       "      <td>0.0</td>\n",
       "      <td>0</td>\n",
       "      <td>0</td>\n",
       "      <td>0</td>\n",
       "    </tr>\n",
       "    <tr>\n",
       "      <th>2</th>\n",
       "      <td>2021-07-12</td>\n",
       "      <td>Google Search</td>\n",
       "      <td>1</td>\n",
       "      <td>35-55</td>\n",
       "      <td>Android</td>\n",
       "      <td>Tier_1</td>\n",
       "      <td>121</td>\n",
       "      <td>2550.0</td>\n",
       "      <td>225.97</td>\n",
       "      <td>28</td>\n",
       "      <td>19</td>\n",
       "      <td>11</td>\n",
       "    </tr>\n",
       "    <tr>\n",
       "      <th>3</th>\n",
       "      <td>2021-03-26</td>\n",
       "      <td>Google Search</td>\n",
       "      <td>1</td>\n",
       "      <td>35-55</td>\n",
       "      <td>iOS</td>\n",
       "      <td>Tier_1</td>\n",
       "      <td>95</td>\n",
       "      <td>1900.0</td>\n",
       "      <td>351.92</td>\n",
       "      <td>23</td>\n",
       "      <td>9</td>\n",
       "      <td>2</td>\n",
       "    </tr>\n",
       "    <tr>\n",
       "      <th>4</th>\n",
       "      <td>2021-04-26</td>\n",
       "      <td>Google Search</td>\n",
       "      <td>1</td>\n",
       "      <td>35-</td>\n",
       "      <td>Android</td>\n",
       "      <td>Tier_1</td>\n",
       "      <td>51</td>\n",
       "      <td>915.0</td>\n",
       "      <td>256.09</td>\n",
       "      <td>7</td>\n",
       "      <td>2</td>\n",
       "      <td>2</td>\n",
       "    </tr>\n",
       "  </tbody>\n",
       "</table>\n",
       "</div>"
      ],
      "text/plain": [
       "  registration_date   traffic_type  id_partner age_group   device  \\\n",
       "0        2021-06-24  Google Search           1       35-      iOS   \n",
       "1        2021-09-13  Google Search           1       35-    MacOS   \n",
       "2        2021-07-12  Google Search           1     35-55  Android   \n",
       "3        2021-03-26  Google Search           1     35-55      iOS   \n",
       "4        2021-04-26  Google Search           1       35-  Android   \n",
       "\n",
       "  country_tier  registrations users_acqusition_costs revenue_7_days  \\\n",
       "0       Tier_1             60                  220.0           2.99   \n",
       "1       Tier_1              8                    0.0            0.0   \n",
       "2       Tier_1            121                 2550.0         225.97   \n",
       "3       Tier_1             95                 1900.0         351.92   \n",
       "4       Tier_1             51                  915.0         256.09   \n",
       "\n",
       "   logins_1_lt  logins_3_lt  logins_7_lt  \n",
       "0            5            3            1  \n",
       "1            0            0            0  \n",
       "2           28           19           11  \n",
       "3           23            9            2  \n",
       "4            7            2            2  "
      ]
     },
     "execution_count": 6,
     "metadata": {},
     "output_type": "execute_result"
    }
   ],
   "source": [
    "df.head()"
   ]
  },
  {
   "cell_type": "code",
   "execution_count": 7,
   "metadata": {},
   "outputs": [
    {
     "name": "stdout",
     "output_type": "stream",
     "text": [
      "Amount of rows:  48248\n",
      "Amount of columns:  12\n"
     ]
    }
   ],
   "source": [
    "num_rows, num_columns = df.shape\n",
    "print(\"Amount of rows: \", num_rows)\n",
    "print(\"Amount of columns: \", num_columns)"
   ]
  },
  {
   "cell_type": "code",
   "execution_count": 8,
   "metadata": {
    "scrolled": true
   },
   "outputs": [
    {
     "name": "stdout",
     "output_type": "stream",
     "text": [
      "Column names:  ['registration_date', 'traffic_type', 'id_partner', 'age_group', 'device', 'country_tier', 'registrations', 'users_acqusition_costs', 'revenue_7_days', 'logins_1_lt', 'logins_3_lt', 'logins_7_lt']\n"
     ]
    }
   ],
   "source": [
    "col_names = df.columns\n",
    "print(\"Column names: \", list(col_names))"
   ]
  },
  {
   "attachments": {},
   "cell_type": "markdown",
   "metadata": {},
   "source": [
    "# Cleaning and counting missing data per column\n"
   ]
  },
  {
   "cell_type": "code",
   "execution_count": 9,
   "metadata": {
    "scrolled": true
   },
   "outputs": [
    {
     "name": "stdout",
     "output_type": "stream",
     "text": [
      "\n",
      " Missing values per column:  registration_date         0\n",
      "traffic_type              0\n",
      "id_partner                0\n",
      "age_group                 2\n",
      "device                    0\n",
      "country_tier              0\n",
      "registrations             0\n",
      "users_acqusition_costs    0\n",
      "revenue_7_days            0\n",
      "logins_1_lt               0\n",
      "logins_3_lt               0\n",
      "logins_7_lt               0\n",
      "dtype: int64\n"
     ]
    }
   ],
   "source": [
    "print(\"\\n Missing values per column: \", df.isnull().sum())\n"
   ]
  },
  {
   "attachments": {},
   "cell_type": "markdown",
   "metadata": {},
   "source": [
    "## Drop missing values:\n"
   ]
  },
  {
   "cell_type": "code",
   "execution_count": 10,
   "metadata": {},
   "outputs": [],
   "source": [
    "df.dropna(inplace=True)"
   ]
  },
  {
   "cell_type": "code",
   "execution_count": 11,
   "metadata": {},
   "outputs": [
    {
     "data": {
      "text/plain": [
       "0"
      ]
     },
     "execution_count": 11,
     "metadata": {},
     "output_type": "execute_result"
    }
   ],
   "source": [
    "df.duplicated().sum()"
   ]
  },
  {
   "cell_type": "code",
   "execution_count": 12,
   "metadata": {},
   "outputs": [
    {
     "data": {
      "text/plain": [
       "array(['Tier_1', 'Tier_2', 'Tier_3'], dtype=object)"
      ]
     },
     "execution_count": 12,
     "metadata": {},
     "output_type": "execute_result"
    }
   ],
   "source": [
    "df.country_tier.unique()"
   ]
  },
  {
   "cell_type": "code",
   "execution_count": 13,
   "metadata": {},
   "outputs": [
    {
     "data": {
      "text/plain": [
       "registration_date         datetime64[ns]\n",
       "traffic_type                      object\n",
       "id_partner                         int64\n",
       "age_group                         object\n",
       "device                            object\n",
       "country_tier                      object\n",
       "registrations                      int64\n",
       "users_acqusition_costs            object\n",
       "revenue_7_days                    object\n",
       "logins_1_lt                        int64\n",
       "logins_3_lt                        int64\n",
       "logins_7_lt                        int64\n",
       "dtype: object"
      ]
     },
     "execution_count": 13,
     "metadata": {},
     "output_type": "execute_result"
    }
   ],
   "source": [
    "df.dtypes"
   ]
  },
  {
   "attachments": {},
   "cell_type": "markdown",
   "metadata": {},
   "source": [
    "## Convert users_acqusition_costs and revenue_7_days columns from object format to float  "
   ]
  },
  {
   "cell_type": "code",
   "execution_count": 15,
   "metadata": {},
   "outputs": [],
   "source": [
    "import re\n",
    "import numpy as np\n",
    "\n",
    "df.users_acqusition_costs = df.users_acqusition_costs.apply(lambda x: re.sub('\\D', '', str(x)))\n",
    "df.revenue_7_days = df.revenue_7_days.apply(lambda x: re.sub('\\D', '', str(x)))\n",
    "\n",
    "df = df.replace('', np.nan)\n",
    "df.dropna(subset=['users_acqusition_costs', 'revenue_7_days'], axis=0, inplace=True)\n",
    "\n",
    "df.users_acqusition_costs = df.users_acqusition_costs.astype('float64')\n",
    "df.revenue_7_days = df.revenue_7_days.astype('float64')"
   ]
  },
  {
   "attachments": {},
   "cell_type": "markdown",
   "metadata": {},
   "source": [
    "## Found the outliers in the data and created plots with Matplotlib"
   ]
  },
  {
   "cell_type": "code",
   "execution_count": 16,
   "metadata": {
    "scrolled": true
   },
   "outputs": [
    {
     "data": {
      "text/plain": [
       "{'whiskers': [<matplotlib.lines.Line2D at 0x11fd741c0>,\n",
       "  <matplotlib.lines.Line2D at 0x11fd74460>],\n",
       " 'caps': [<matplotlib.lines.Line2D at 0x11fd74700>,\n",
       "  <matplotlib.lines.Line2D at 0x11fd749d0>],\n",
       " 'boxes': [<matplotlib.lines.Line2D at 0x120073f70>],\n",
       " 'medians': [<matplotlib.lines.Line2D at 0x11fd74c70>],\n",
       " 'fliers': [<matplotlib.lines.Line2D at 0x11fd74f10>],\n",
       " 'means': []}"
      ]
     },
     "execution_count": 16,
     "metadata": {},
     "output_type": "execute_result"
    },
    {
     "data": {
      "image/png": "[encoded data removed]",
      "text/plain": [
       "<Figure size 640x480 with 1 Axes>"
      ]
     },
     "metadata": {},
     "output_type": "display_data"
    }
   ],
   "source": [
    "import matplotlib.pyplot as plt\n",
    "\n",
    "plt.boxplot(df[df.users_acqusition_costs < 175000].users_acqusition_costs)"
   ]
  },
  {
   "cell_type": "code",
   "execution_count": 17,
   "metadata": {},
   "outputs": [],
   "source": [
    "df = df[df.users_acqusition_costs < 175000]"
   ]
  },
  {
   "cell_type": "code",
   "execution_count": 18,
   "metadata": {},
   "outputs": [
    {
     "data": {
      "text/plain": [
       "{'whiskers': [<matplotlib.lines.Line2D at 0x11fd4d570>,\n",
       "  <matplotlib.lines.Line2D at 0x11fd4d810>],\n",
       " 'caps': [<matplotlib.lines.Line2D at 0x11fd4dab0>,\n",
       "  <matplotlib.lines.Line2D at 0x11fd4dd50>],\n",
       " 'boxes': [<matplotlib.lines.Line2D at 0x11fd4d2d0>],\n",
       " 'medians': [<matplotlib.lines.Line2D at 0x11fd4dff0>],\n",
       " 'fliers': [<matplotlib.lines.Line2D at 0x11fd4e290>],\n",
       " 'means': []}"
      ]
     },
     "execution_count": 18,
     "metadata": {},
     "output_type": "execute_result"
    },
    {
     "data": {
      "image/png": "[encoded data removed]",
      "text/plain": [
       "<Figure size 640x480 with 1 Axes>"
      ]
     },
     "metadata": {},
     "output_type": "display_data"
    }
   ],
   "source": [
    "plt.boxplot(df[df.revenue_7_days < 200000].revenue_7_days)"
   ]
  },
  {
   "cell_type": "code",
   "execution_count": 19,
   "metadata": {},
   "outputs": [],
   "source": [
    "df = df[df.revenue_7_days < 200000]"
   ]
  },
  {
   "cell_type": "code",
   "execution_count": 20,
   "metadata": {},
   "outputs": [
    {
     "data": {
      "text/html": [
       "<div>\n",
       "<style scoped>\n",
       "    .dataframe tbody tr th:only-of-type {\n",
       "        vertical-align: middle;\n",
       "    }\n",
       "\n",
       "    .dataframe tbody tr th {\n",
       "        vertical-align: top;\n",
       "    }\n",
       "\n",
       "    .dataframe thead th {\n",
       "        text-align: right;\n",
       "    }\n",
       "</style>\n",
       "<table border=\"1\" class=\"dataframe\">\n",
       "  <thead>\n",
       "    <tr style=\"text-align: right;\">\n",
       "      <th></th>\n",
       "      <th>count</th>\n",
       "      <th>mean</th>\n",
       "      <th>min</th>\n",
       "      <th>25%</th>\n",
       "      <th>50%</th>\n",
       "      <th>75%</th>\n",
       "      <th>max</th>\n",
       "      <th>std</th>\n",
       "    </tr>\n",
       "  </thead>\n",
       "  <tbody>\n",
       "    <tr>\n",
       "      <th>registration_date</th>\n",
       "      <td>42171</td>\n",
       "      <td>2021-06-07 13:03:29.746034176</td>\n",
       "      <td>2021-01-01 00:00:00</td>\n",
       "      <td>2021-03-19 00:00:00</td>\n",
       "      <td>2021-06-04 00:00:00</td>\n",
       "      <td>2021-08-28 00:00:00</td>\n",
       "      <td>2021-11-18 00:00:00</td>\n",
       "      <td>NaN</td>\n",
       "    </tr>\n",
       "    <tr>\n",
       "      <th>id_partner</th>\n",
       "      <td>42171.00</td>\n",
       "      <td>3.11</td>\n",
       "      <td>1.00</td>\n",
       "      <td>2.00</td>\n",
       "      <td>3.00</td>\n",
       "      <td>5.00</td>\n",
       "      <td>6.00</td>\n",
       "      <td>1.77</td>\n",
       "    </tr>\n",
       "    <tr>\n",
       "      <th>registrations</th>\n",
       "      <td>42171.00</td>\n",
       "      <td>35.28</td>\n",
       "      <td>1.00</td>\n",
       "      <td>2.00</td>\n",
       "      <td>5.00</td>\n",
       "      <td>25.00</td>\n",
       "      <td>2265.00</td>\n",
       "      <td>104.28</td>\n",
       "    </tr>\n",
       "    <tr>\n",
       "      <th>users_acqusition_costs</th>\n",
       "      <td>42171.00</td>\n",
       "      <td>3734.60</td>\n",
       "      <td>0.00</td>\n",
       "      <td>0.00</td>\n",
       "      <td>0.00</td>\n",
       "      <td>2077.50</td>\n",
       "      <td>174340.00</td>\n",
       "      <td>11672.77</td>\n",
       "    </tr>\n",
       "    <tr>\n",
       "      <th>revenue_7_days</th>\n",
       "      <td>42171.00</td>\n",
       "      <td>4414.87</td>\n",
       "      <td>0.00</td>\n",
       "      <td>0.00</td>\n",
       "      <td>0.00</td>\n",
       "      <td>0.00</td>\n",
       "      <td>199797.00</td>\n",
       "      <td>18053.08</td>\n",
       "    </tr>\n",
       "    <tr>\n",
       "      <th>logins_1_lt</th>\n",
       "      <td>42171.00</td>\n",
       "      <td>4.74</td>\n",
       "      <td>0.00</td>\n",
       "      <td>0.00</td>\n",
       "      <td>1.00</td>\n",
       "      <td>3.00</td>\n",
       "      <td>196.00</td>\n",
       "      <td>11.75</td>\n",
       "    </tr>\n",
       "    <tr>\n",
       "      <th>logins_3_lt</th>\n",
       "      <td>42171.00</td>\n",
       "      <td>2.66</td>\n",
       "      <td>0.00</td>\n",
       "      <td>0.00</td>\n",
       "      <td>0.00</td>\n",
       "      <td>2.00</td>\n",
       "      <td>118.00</td>\n",
       "      <td>6.58</td>\n",
       "    </tr>\n",
       "    <tr>\n",
       "      <th>logins_7_lt</th>\n",
       "      <td>42171.00</td>\n",
       "      <td>1.69</td>\n",
       "      <td>0.00</td>\n",
       "      <td>0.00</td>\n",
       "      <td>0.00</td>\n",
       "      <td>1.00</td>\n",
       "      <td>87.00</td>\n",
       "      <td>4.20</td>\n",
       "    </tr>\n",
       "  </tbody>\n",
       "</table>\n",
       "</div>"
      ],
      "text/plain": [
       "                          count                           mean  \\\n",
       "registration_date         42171  2021-06-07 13:03:29.746034176   \n",
       "id_partner             42171.00                           3.11   \n",
       "registrations          42171.00                          35.28   \n",
       "users_acqusition_costs 42171.00                        3734.60   \n",
       "revenue_7_days         42171.00                        4414.87   \n",
       "logins_1_lt            42171.00                           4.74   \n",
       "logins_3_lt            42171.00                           2.66   \n",
       "logins_7_lt            42171.00                           1.69   \n",
       "\n",
       "                                        min                  25%  \\\n",
       "registration_date       2021-01-01 00:00:00  2021-03-19 00:00:00   \n",
       "id_partner                             1.00                 2.00   \n",
       "registrations                          1.00                 2.00   \n",
       "users_acqusition_costs                 0.00                 0.00   \n",
       "revenue_7_days                         0.00                 0.00   \n",
       "logins_1_lt                            0.00                 0.00   \n",
       "logins_3_lt                            0.00                 0.00   \n",
       "logins_7_lt                            0.00                 0.00   \n",
       "\n",
       "                                        50%                  75%  \\\n",
       "registration_date       2021-06-04 00:00:00  2021-08-28 00:00:00   \n",
       "id_partner                             3.00                 5.00   \n",
       "registrations                          5.00                25.00   \n",
       "users_acqusition_costs                 0.00              2077.50   \n",
       "revenue_7_days                         0.00                 0.00   \n",
       "logins_1_lt                            1.00                 3.00   \n",
       "logins_3_lt                            0.00                 2.00   \n",
       "logins_7_lt                            0.00                 1.00   \n",
       "\n",
       "                                        max      std  \n",
       "registration_date       2021-11-18 00:00:00      NaN  \n",
       "id_partner                             6.00     1.77  \n",
       "registrations                       2265.00   104.28  \n",
       "users_acqusition_costs            174340.00 11672.77  \n",
       "revenue_7_days                    199797.00 18053.08  \n",
       "logins_1_lt                          196.00    11.75  \n",
       "logins_3_lt                          118.00     6.58  \n",
       "logins_7_lt                           87.00     4.20  "
      ]
     },
     "execution_count": 20,
     "metadata": {},
     "output_type": "execute_result"
    }
   ],
   "source": [
    "df.describe().T"
   ]
  },
  {
   "attachments": {},
   "cell_type": "markdown",
   "metadata": {},
   "source": [
    "<h2>Conducted the analysis, the type of traffic with the most number of registrations</h2>"
   ]
  },
  {
   "cell_type": "code",
   "execution_count": 21,
   "metadata": {},
   "outputs": [
    {
     "data": {
      "text/html": [
       "<div>\n",
       "<style scoped>\n",
       "    .dataframe tbody tr th:only-of-type {\n",
       "        vertical-align: middle;\n",
       "    }\n",
       "\n",
       "    .dataframe tbody tr th {\n",
       "        vertical-align: top;\n",
       "    }\n",
       "\n",
       "    .dataframe thead th {\n",
       "        text-align: right;\n",
       "    }\n",
       "</style>\n",
       "<table border=\"1\" class=\"dataframe\">\n",
       "  <thead>\n",
       "    <tr style=\"text-align: right;\">\n",
       "      <th></th>\n",
       "      <th>traffic_type</th>\n",
       "      <th>registrations</th>\n",
       "    </tr>\n",
       "  </thead>\n",
       "  <tbody>\n",
       "    <tr>\n",
       "      <th>0</th>\n",
       "      <td>Google Media</td>\n",
       "      <td>893169</td>\n",
       "    </tr>\n",
       "    <tr>\n",
       "      <th>1</th>\n",
       "      <td>Facebook</td>\n",
       "      <td>307994</td>\n",
       "    </tr>\n",
       "    <tr>\n",
       "      <th>2</th>\n",
       "      <td>Google Search</td>\n",
       "      <td>286801</td>\n",
       "    </tr>\n",
       "  </tbody>\n",
       "</table>\n",
       "</div>"
      ],
      "text/plain": [
       "    traffic_type  registrations\n",
       "0   Google Media         893169\n",
       "1       Facebook         307994\n",
       "2  Google Search         286801"
      ]
     },
     "execution_count": 21,
     "metadata": {},
     "output_type": "execute_result"
    }
   ],
   "source": [
    "df.groupby(\"traffic_type\").agg({'registrations': 'sum'}).sort_values(by='registrations', ascending=False) \\\n",
    "    .reset_index()\n"
   ]
  },
  {
   "cell_type": "code",
   "execution_count": 46,
   "metadata": {},
   "outputs": [
    {
     "data": {
      "text/plain": [
       "([<matplotlib.patches.Wedge at 0x11fe87580>,\n",
       "  <matplotlib.patches.Wedge at 0x11fe97d30>,\n",
       "  <matplotlib.patches.Wedge at 0x11fe6c910>],\n",
       " [Text(-0.34078138924448353, 1.0458814678273058, 'Google Media'),\n",
       "  Text(-0.3151264425001272, -1.0538953103782245, 'Facebook'),\n",
       "  Text(0.9044185268488498, -0.626120697863085, 'Google Search')],\n",
       " [Text(-0.18588075776971827, 0.5704808006330758, '60.0%'),\n",
       "  Text(-0.17188715045461483, -0.5748519874790315, '20.7%'),\n",
       "  Text(0.4933191964630089, -0.34152038065259177, '19.3%')])"
      ]
     },
     "execution_count": 46,
     "metadata": {},
     "output_type": "execute_result"
    },
    {
     "data": {
      "image/png": "[encoded data removed]",
      "text/plain": [
       "<Figure size 640x480 with 1 Axes>"
      ]
     },
     "metadata": {},
     "output_type": "display_data"
    }
   ],
   "source": [
    "labels = 'Google Media', 'Facebook', 'Google Search'\n",
    "sizes = [893169, 307994, 286801]\n",
    "\n",
    "fig, ax = plt.subplots()\n",
    "ax.pie(sizes, labels=labels, autopct='%1.1f%%')\n"
   ]
  },
  {
   "cell_type": "code",
   "execution_count": 22,
   "metadata": {},
   "outputs": [
    {
     "data": {
      "text/html": [
       "<div>\n",
       "<style scoped>\n",
       "    .dataframe tbody tr th:only-of-type {\n",
       "        vertical-align: middle;\n",
       "    }\n",
       "\n",
       "    .dataframe tbody tr th {\n",
       "        vertical-align: top;\n",
       "    }\n",
       "\n",
       "    .dataframe thead th {\n",
       "        text-align: right;\n",
       "    }\n",
       "</style>\n",
       "<table border=\"1\" class=\"dataframe\">\n",
       "  <thead>\n",
       "    <tr style=\"text-align: right;\">\n",
       "      <th></th>\n",
       "      <th>id_partner</th>\n",
       "    </tr>\n",
       "    <tr>\n",
       "      <th>traffic_type</th>\n",
       "      <th></th>\n",
       "    </tr>\n",
       "  </thead>\n",
       "  <tbody>\n",
       "    <tr>\n",
       "      <th>Facebook</th>\n",
       "      <td>2</td>\n",
       "    </tr>\n",
       "    <tr>\n",
       "      <th>Google Media</th>\n",
       "      <td>2</td>\n",
       "    </tr>\n",
       "    <tr>\n",
       "      <th>Google Search</th>\n",
       "      <td>2</td>\n",
       "    </tr>\n",
       "  </tbody>\n",
       "</table>\n",
       "</div>"
      ],
      "text/plain": [
       "               id_partner\n",
       "traffic_type             \n",
       "Facebook                2\n",
       "Google Media            2\n",
       "Google Search           2"
      ]
     },
     "execution_count": 22,
     "metadata": {},
     "output_type": "execute_result"
    }
   ],
   "source": [
    "df.groupby('traffic_type').agg({'id_partner': 'nunique'})"
   ]
  },
  {
   "attachments": {},
   "cell_type": "markdown",
   "metadata": {},
   "source": [
    "<h2>Total revenue for each type of traffic</h2>"
   ]
  },
  {
   "cell_type": "code",
   "execution_count": 23,
   "metadata": {},
   "outputs": [
    {
     "name": "stdout",
     "output_type": "stream",
     "text": [
      "traffic_type\n",
      "Google Search   106265464.00\n",
      "Facebook         57860141.00\n",
      "Google Media     22053915.00\n",
      "Name: revenue_7_days, dtype: float64\n"
     ]
    }
   ],
   "source": [
    "total_revenue_per_traffic = df.groupby(\"traffic_type\")[\"revenue_7_days\"].sum().sort_values(ascending=False)\n",
    "print(total_revenue_per_traffic)"
   ]
  },
  {
   "cell_type": "code",
   "execution_count": 47,
   "metadata": {},
   "outputs": [
    {
     "data": {
      "image/png": "[encoded data removed]",
      "text/plain": [
       "<Figure size 640x480 with 1 Axes>"
      ]
     },
     "metadata": {},
     "output_type": "display_data"
    }
   ],
   "source": [
    "fig, ax = plt.subplots()\n",
    "\n",
    "traffic_type = ['Google Search', 'Facebook', 'Google Media']\n",
    "revenue = [106265464.00, 57860141.00, 22053915.00]\n",
    "bar_labels = ['Google Search', 'Facebook', 'Google Media']\n",
    "bar_colors = ['tab:red', 'tab:blue', 'tab:green']\n",
    "\n",
    "ax.bar(traffic_type, revenue, label=bar_labels, color=bar_colors)\n",
    "\n",
    "ax.set_ylabel('Amount of money')\n",
    "ax.set_title('Total revenue for each type of traffic')\n",
    "ax.legend(title='traffic type')\n",
    "\n",
    "plt.show()"
   ]
  },
  {
   "cell_type": "code",
   "execution_count": 24,
   "metadata": {},
   "outputs": [
    {
     "data": {
      "text/html": [
       "<div>\n",
       "<style scoped>\n",
       "    .dataframe tbody tr th:only-of-type {\n",
       "        vertical-align: middle;\n",
       "    }\n",
       "\n",
       "    .dataframe tbody tr th {\n",
       "        vertical-align: top;\n",
       "    }\n",
       "\n",
       "    .dataframe thead th {\n",
       "        text-align: right;\n",
       "    }\n",
       "</style>\n",
       "<table border=\"1\" class=\"dataframe\">\n",
       "  <thead>\n",
       "    <tr style=\"text-align: right;\">\n",
       "      <th></th>\n",
       "      <th>registration_date</th>\n",
       "      <th>traffic_type</th>\n",
       "      <th>id_partner</th>\n",
       "      <th>age_group</th>\n",
       "      <th>device</th>\n",
       "      <th>country_tier</th>\n",
       "      <th>registrations</th>\n",
       "      <th>users_acqusition_costs</th>\n",
       "      <th>revenue_7_days</th>\n",
       "      <th>logins_1_lt</th>\n",
       "      <th>logins_3_lt</th>\n",
       "      <th>logins_7_lt</th>\n",
       "    </tr>\n",
       "  </thead>\n",
       "  <tbody>\n",
       "    <tr>\n",
       "      <th>0</th>\n",
       "      <td>2021-06-24</td>\n",
       "      <td>Google Search</td>\n",
       "      <td>1</td>\n",
       "      <td>35-</td>\n",
       "      <td>iOS</td>\n",
       "      <td>Tier_1</td>\n",
       "      <td>60</td>\n",
       "      <td>2200.00</td>\n",
       "      <td>299.00</td>\n",
       "      <td>5</td>\n",
       "      <td>3</td>\n",
       "      <td>1</td>\n",
       "    </tr>\n",
       "    <tr>\n",
       "      <th>1</th>\n",
       "      <td>2021-09-13</td>\n",
       "      <td>Google Search</td>\n",
       "      <td>1</td>\n",
       "      <td>35-</td>\n",
       "      <td>MacOS</td>\n",
       "      <td>Tier_1</td>\n",
       "      <td>8</td>\n",
       "      <td>0.00</td>\n",
       "      <td>0.00</td>\n",
       "      <td>0</td>\n",
       "      <td>0</td>\n",
       "      <td>0</td>\n",
       "    </tr>\n",
       "  </tbody>\n",
       "</table>\n",
       "</div>"
      ],
      "text/plain": [
       "  registration_date   traffic_type  id_partner age_group device country_tier  \\\n",
       "0        2021-06-24  Google Search           1       35-    iOS       Tier_1   \n",
       "1        2021-09-13  Google Search           1       35-  MacOS       Tier_1   \n",
       "\n",
       "   registrations  users_acqusition_costs  revenue_7_days  logins_1_lt  \\\n",
       "0             60                 2200.00          299.00            5   \n",
       "1              8                    0.00            0.00            0   \n",
       "\n",
       "   logins_3_lt  logins_7_lt  \n",
       "0            3            1  \n",
       "1            0            0  "
      ]
     },
     "execution_count": 24,
     "metadata": {},
     "output_type": "execute_result"
    }
   ],
   "source": [
    "df.head(2)"
   ]
  },
  {
   "attachments": {},
   "cell_type": "markdown",
   "metadata": {},
   "source": [
    "<h2>Next step is ROI metric. This is <bold>Return on investment (ROI)</bold> is a performance measure used to evaluate the efficiency or profitability of an investment or compare the efficiency of a number of different investments. ROI tries to directly measure the amount of return on a particular investment, relative to the investment’s cost. </h2>"
   ]
  },
  {
   "cell_type": "code",
   "execution_count": 97,
   "metadata": {},
   "outputs": [],
   "source": [
    "df_ROI = df.groupby(['traffic_type', 'id_partner']).agg({'revenue_7_days': 'sum', 'users_acqusition_costs': 'sum'})\\\n",
    "    .sort_values(by='revenue_7_days', ascending=False).reset_index()"
   ]
  },
  {
   "cell_type": "code",
   "execution_count": 98,
   "metadata": {},
   "outputs": [],
   "source": [
    "df_ROI['ROI'] = (df_ROI.revenue_7_days - df_ROI.users_acqusition_costs) / df_ROI.users_acqusition_costs * 100"
   ]
  },
  {
   "cell_type": "code",
   "execution_count": 99,
   "metadata": {},
   "outputs": [
    {
     "data": {
      "text/html": [
       "<div>\n",
       "<style scoped>\n",
       "    .dataframe tbody tr th:only-of-type {\n",
       "        vertical-align: middle;\n",
       "    }\n",
       "\n",
       "    .dataframe tbody tr th {\n",
       "        vertical-align: top;\n",
       "    }\n",
       "\n",
       "    .dataframe thead th {\n",
       "        text-align: right;\n",
       "    }\n",
       "</style>\n",
       "<table border=\"1\" class=\"dataframe\">\n",
       "  <thead>\n",
       "    <tr style=\"text-align: right;\">\n",
       "      <th></th>\n",
       "      <th>traffic_type</th>\n",
       "      <th>id_partner</th>\n",
       "      <th>revenue_7_days</th>\n",
       "      <th>users_acqusition_costs</th>\n",
       "      <th>ROI</th>\n",
       "    </tr>\n",
       "  </thead>\n",
       "  <tbody>\n",
       "    <tr>\n",
       "      <th>0</th>\n",
       "      <td>Google Search</td>\n",
       "      <td>1</td>\n",
       "      <td>70929421.00</td>\n",
       "      <td>33552152.00</td>\n",
       "      <td>111.40</td>\n",
       "    </tr>\n",
       "    <tr>\n",
       "      <th>1</th>\n",
       "      <td>Google Search</td>\n",
       "      <td>2</td>\n",
       "      <td>35336043.00</td>\n",
       "      <td>35377327.00</td>\n",
       "      <td>-0.12</td>\n",
       "    </tr>\n",
       "    <tr>\n",
       "      <th>2</th>\n",
       "      <td>Facebook</td>\n",
       "      <td>4</td>\n",
       "      <td>32918699.00</td>\n",
       "      <td>31691159.00</td>\n",
       "      <td>3.87</td>\n",
       "    </tr>\n",
       "    <tr>\n",
       "      <th>3</th>\n",
       "      <td>Facebook</td>\n",
       "      <td>3</td>\n",
       "      <td>24941442.00</td>\n",
       "      <td>17841200.00</td>\n",
       "      <td>39.80</td>\n",
       "    </tr>\n",
       "    <tr>\n",
       "      <th>4</th>\n",
       "      <td>Google Media</td>\n",
       "      <td>6</td>\n",
       "      <td>13803815.00</td>\n",
       "      <td>29111829.00</td>\n",
       "      <td>-52.58</td>\n",
       "    </tr>\n",
       "    <tr>\n",
       "      <th>5</th>\n",
       "      <td>Google Media</td>\n",
       "      <td>5</td>\n",
       "      <td>8250100.00</td>\n",
       "      <td>9918318.00</td>\n",
       "      <td>-16.82</td>\n",
       "    </tr>\n",
       "  </tbody>\n",
       "</table>\n",
       "</div>"
      ],
      "text/plain": [
       "    traffic_type  id_partner  revenue_7_days  users_acqusition_costs    ROI\n",
       "0  Google Search           1     70929421.00             33552152.00 111.40\n",
       "1  Google Search           2     35336043.00             35377327.00  -0.12\n",
       "2       Facebook           4     32918699.00             31691159.00   3.87\n",
       "3       Facebook           3     24941442.00             17841200.00  39.80\n",
       "4   Google Media           6     13803815.00             29111829.00 -52.58\n",
       "5   Google Media           5      8250100.00              9918318.00 -16.82"
      ]
     },
     "execution_count": 99,
     "metadata": {},
     "output_type": "execute_result"
    }
   ],
   "source": [
    "df_ROI"
   ]
  },
  {
   "attachments": {},
   "cell_type": "markdown",
   "metadata": {},
   "source": [
    "<h3>For a full picture of revenues, it's a good idea to calculate the CPL parameter. CPL is a metric used to assess the efficiency of online marketing. It shows how much an advertiser pays to attract one lead on a particular advertising channel</h3>"
   ]
  },
  {
   "cell_type": "code",
   "execution_count": 93,
   "metadata": {},
   "outputs": [],
   "source": [
    "df_CPL = df.groupby(['traffic_type', 'id_partner']).agg({'users_acqusition_costs': 'sum', 'registrations': 'sum'})\\\n",
    "    .reset_index()"
   ]
  },
  {
   "cell_type": "code",
   "execution_count": 94,
   "metadata": {},
   "outputs": [
    {
     "data": {
      "text/html": [
       "<div>\n",
       "<style scoped>\n",
       "    .dataframe tbody tr th:only-of-type {\n",
       "        vertical-align: middle;\n",
       "    }\n",
       "\n",
       "    .dataframe tbody tr th {\n",
       "        vertical-align: top;\n",
       "    }\n",
       "\n",
       "    .dataframe thead th {\n",
       "        text-align: right;\n",
       "    }\n",
       "</style>\n",
       "<table border=\"1\" class=\"dataframe\">\n",
       "  <thead>\n",
       "    <tr style=\"text-align: right;\">\n",
       "      <th></th>\n",
       "      <th>traffic_type</th>\n",
       "      <th>id_partner</th>\n",
       "      <th>users_acqusition_costs</th>\n",
       "      <th>registrations</th>\n",
       "    </tr>\n",
       "  </thead>\n",
       "  <tbody>\n",
       "    <tr>\n",
       "      <th>0</th>\n",
       "      <td>Facebook</td>\n",
       "      <td>3</td>\n",
       "      <td>17841200.00</td>\n",
       "      <td>98019</td>\n",
       "    </tr>\n",
       "    <tr>\n",
       "      <th>1</th>\n",
       "      <td>Facebook</td>\n",
       "      <td>4</td>\n",
       "      <td>31691159.00</td>\n",
       "      <td>209975</td>\n",
       "    </tr>\n",
       "    <tr>\n",
       "      <th>2</th>\n",
       "      <td>Google Media</td>\n",
       "      <td>5</td>\n",
       "      <td>9918318.00</td>\n",
       "      <td>404310</td>\n",
       "    </tr>\n",
       "    <tr>\n",
       "      <th>3</th>\n",
       "      <td>Google Media</td>\n",
       "      <td>6</td>\n",
       "      <td>29111829.00</td>\n",
       "      <td>488859</td>\n",
       "    </tr>\n",
       "    <tr>\n",
       "      <th>4</th>\n",
       "      <td>Google Search</td>\n",
       "      <td>1</td>\n",
       "      <td>33552152.00</td>\n",
       "      <td>158036</td>\n",
       "    </tr>\n",
       "    <tr>\n",
       "      <th>5</th>\n",
       "      <td>Google Search</td>\n",
       "      <td>2</td>\n",
       "      <td>35377327.00</td>\n",
       "      <td>128765</td>\n",
       "    </tr>\n",
       "  </tbody>\n",
       "</table>\n",
       "</div>"
      ],
      "text/plain": [
       "    traffic_type  id_partner  users_acqusition_costs  registrations\n",
       "0       Facebook           3             17841200.00          98019\n",
       "1       Facebook           4             31691159.00         209975\n",
       "2   Google Media           5              9918318.00         404310\n",
       "3   Google Media           6             29111829.00         488859\n",
       "4  Google Search           1             33552152.00         158036\n",
       "5  Google Search           2             35377327.00         128765"
      ]
     },
     "execution_count": 94,
     "metadata": {},
     "output_type": "execute_result"
    }
   ],
   "source": [
    "df_CPL"
   ]
  },
  {
   "cell_type": "code",
   "execution_count": 95,
   "metadata": {},
   "outputs": [],
   "source": [
    "df_CPL['CPL'] = df_CPL.users_acqusition_costs / df_CPL.registrations"
   ]
  },
  {
   "cell_type": "code",
   "execution_count": 96,
   "metadata": {},
   "outputs": [
    {
     "data": {
      "text/html": [
       "<div>\n",
       "<style scoped>\n",
       "    .dataframe tbody tr th:only-of-type {\n",
       "        vertical-align: middle;\n",
       "    }\n",
       "\n",
       "    .dataframe tbody tr th {\n",
       "        vertical-align: top;\n",
       "    }\n",
       "\n",
       "    .dataframe thead th {\n",
       "        text-align: right;\n",
       "    }\n",
       "</style>\n",
       "<table border=\"1\" class=\"dataframe\">\n",
       "  <thead>\n",
       "    <tr style=\"text-align: right;\">\n",
       "      <th></th>\n",
       "      <th>traffic_type</th>\n",
       "      <th>id_partner</th>\n",
       "      <th>users_acqusition_costs</th>\n",
       "      <th>registrations</th>\n",
       "      <th>CPL</th>\n",
       "    </tr>\n",
       "  </thead>\n",
       "  <tbody>\n",
       "    <tr>\n",
       "      <th>5</th>\n",
       "      <td>Google Search</td>\n",
       "      <td>2</td>\n",
       "      <td>35377327.00</td>\n",
       "      <td>128765</td>\n",
       "      <td>274.74</td>\n",
       "    </tr>\n",
       "    <tr>\n",
       "      <th>4</th>\n",
       "      <td>Google Search</td>\n",
       "      <td>1</td>\n",
       "      <td>33552152.00</td>\n",
       "      <td>158036</td>\n",
       "      <td>212.31</td>\n",
       "    </tr>\n",
       "    <tr>\n",
       "      <th>0</th>\n",
       "      <td>Facebook</td>\n",
       "      <td>3</td>\n",
       "      <td>17841200.00</td>\n",
       "      <td>98019</td>\n",
       "      <td>182.02</td>\n",
       "    </tr>\n",
       "    <tr>\n",
       "      <th>1</th>\n",
       "      <td>Facebook</td>\n",
       "      <td>4</td>\n",
       "      <td>31691159.00</td>\n",
       "      <td>209975</td>\n",
       "      <td>150.93</td>\n",
       "    </tr>\n",
       "    <tr>\n",
       "      <th>3</th>\n",
       "      <td>Google Media</td>\n",
       "      <td>6</td>\n",
       "      <td>29111829.00</td>\n",
       "      <td>488859</td>\n",
       "      <td>59.55</td>\n",
       "    </tr>\n",
       "    <tr>\n",
       "      <th>2</th>\n",
       "      <td>Google Media</td>\n",
       "      <td>5</td>\n",
       "      <td>9918318.00</td>\n",
       "      <td>404310</td>\n",
       "      <td>24.53</td>\n",
       "    </tr>\n",
       "  </tbody>\n",
       "</table>\n",
       "</div>"
      ],
      "text/plain": [
       "    traffic_type  id_partner  users_acqusition_costs  registrations    CPL\n",
       "5  Google Search           2             35377327.00         128765 274.74\n",
       "4  Google Search           1             33552152.00         158036 212.31\n",
       "0       Facebook           3             17841200.00          98019 182.02\n",
       "1       Facebook           4             31691159.00         209975 150.93\n",
       "3   Google Media           6             29111829.00         488859  59.55\n",
       "2   Google Media           5              9918318.00         404310  24.53"
      ]
     },
     "execution_count": 96,
     "metadata": {},
     "output_type": "execute_result"
    }
   ],
   "source": [
    "df_CPL.sort_values(by='CPL', ascending=False)"
   ]
  },
  {
   "attachments": {},
   "cell_type": "markdown",
   "metadata": {},
   "source": [
    "In this cell, we can see the most active group and its average spend in the defined traffic types"
   ]
  },
  {
   "cell_type": "code",
   "execution_count": 65,
   "metadata": {},
   "outputs": [
    {
     "data": {
      "text/html": [
       "<div>\n",
       "<style scoped>\n",
       "    .dataframe tbody tr th:only-of-type {\n",
       "        vertical-align: middle;\n",
       "    }\n",
       "\n",
       "    .dataframe tbody tr th {\n",
       "        vertical-align: top;\n",
       "    }\n",
       "\n",
       "    .dataframe thead tr th {\n",
       "        text-align: left;\n",
       "    }\n",
       "</style>\n",
       "<table border=\"1\" class=\"dataframe\">\n",
       "  <thead>\n",
       "    <tr>\n",
       "      <th></th>\n",
       "      <th>age_group</th>\n",
       "      <th colspan=\"2\" halign=\"left\">revenue_7_days</th>\n",
       "    </tr>\n",
       "    <tr>\n",
       "      <th></th>\n",
       "      <th></th>\n",
       "      <th>mean</th>\n",
       "      <th>count</th>\n",
       "    </tr>\n",
       "  </thead>\n",
       "  <tbody>\n",
       "    <tr>\n",
       "      <th>2</th>\n",
       "      <td>55+</td>\n",
       "      <td>6708.96</td>\n",
       "      <td>13100</td>\n",
       "    </tr>\n",
       "    <tr>\n",
       "      <th>1</th>\n",
       "      <td>35-55</td>\n",
       "      <td>5426.63</td>\n",
       "      <td>14018</td>\n",
       "    </tr>\n",
       "    <tr>\n",
       "      <th>0</th>\n",
       "      <td>35-</td>\n",
       "      <td>1476.23</td>\n",
       "      <td>15053</td>\n",
       "    </tr>\n",
       "  </tbody>\n",
       "</table>\n",
       "</div>"
      ],
      "text/plain": [
       "  age_group revenue_7_days       \n",
       "                      mean  count\n",
       "2       55+        6708.96  13100\n",
       "1     35-55        5426.63  14018\n",
       "0       35-        1476.23  15053"
      ]
     },
     "execution_count": 65,
     "metadata": {},
     "output_type": "execute_result"
    }
   ],
   "source": [
    "df.groupby('age_group').agg({'revenue_7_days': ['mean', 'count']})\\\n",
    "    .reset_index().sort_values(by=('revenue_7_days',   'mean'), ascending=False)"
   ]
  },
  {
   "cell_type": "code",
   "execution_count": 72,
   "metadata": {},
   "outputs": [
    {
     "data": {
      "image/png": "[encoded data removed]",
      "text/plain": [
       "<Figure size 640x480 with 1 Axes>"
      ]
     },
     "metadata": {},
     "output_type": "display_data"
    }
   ],
   "source": [
    "fig, ax = plt.subplots()\n",
    "age_group = ['55+', '35-55', '35-']\n",
    "mean_spend = [6708.96, 5426.63, 1476.23]\n",
    "bar_labels = ['55+', '35-55', '35-']\n",
    "bar_colors = ['tab:red', 'tab:blue', 'tab:green']\n",
    "\n",
    "ax.bar(age_group, mean_spend, label=bar_labels, color=bar_colors)\n",
    "\n",
    "ax.set_ylabel('Amount of money')\n",
    "ax.set_title('The most active group of users sorted by age')\n",
    "ax.legend(title='age group')\n",
    "\n",
    "plt.show()"
   ]
  },
  {
   "attachments": {},
   "cell_type": "markdown",
   "metadata": {},
   "source": [
    "## In this section, we found dependencies between average profit and used device"
   ]
  },
  {
   "cell_type": "code",
   "execution_count": 67,
   "metadata": {},
   "outputs": [],
   "source": [
    "df_mean_profit = df.groupby('device').agg({'logins_1_lt': 'sum', 'revenue_7_days': 'sum'}).reset_index()"
   ]
  },
  {
   "cell_type": "code",
   "execution_count": 68,
   "metadata": {},
   "outputs": [],
   "source": [
    "df_mean_profit['Mean_Profit'] = df_mean_profit.revenue_7_days / df_mean_profit.logins_1_lt"
   ]
  },
  {
   "cell_type": "code",
   "execution_count": 69,
   "metadata": {},
   "outputs": [
    {
     "data": {
      "text/html": [
       "<div>\n",
       "<style scoped>\n",
       "    .dataframe tbody tr th:only-of-type {\n",
       "        vertical-align: middle;\n",
       "    }\n",
       "\n",
       "    .dataframe tbody tr th {\n",
       "        vertical-align: top;\n",
       "    }\n",
       "\n",
       "    .dataframe thead th {\n",
       "        text-align: right;\n",
       "    }\n",
       "</style>\n",
       "<table border=\"1\" class=\"dataframe\">\n",
       "  <thead>\n",
       "    <tr style=\"text-align: right;\">\n",
       "      <th></th>\n",
       "      <th>device</th>\n",
       "      <th>logins_1_lt</th>\n",
       "      <th>revenue_7_days</th>\n",
       "      <th>Mean_Profit</th>\n",
       "    </tr>\n",
       "  </thead>\n",
       "  <tbody>\n",
       "    <tr>\n",
       "      <th>1</th>\n",
       "      <td>MacOS</td>\n",
       "      <td>11383</td>\n",
       "      <td>21777264.00</td>\n",
       "      <td>1913.14</td>\n",
       "    </tr>\n",
       "    <tr>\n",
       "      <th>3</th>\n",
       "      <td>Windows</td>\n",
       "      <td>33738</td>\n",
       "      <td>37141134.00</td>\n",
       "      <td>1100.87</td>\n",
       "    </tr>\n",
       "    <tr>\n",
       "      <th>4</th>\n",
       "      <td>iOS</td>\n",
       "      <td>58027</td>\n",
       "      <td>62242430.00</td>\n",
       "      <td>1072.65</td>\n",
       "    </tr>\n",
       "    <tr>\n",
       "      <th>0</th>\n",
       "      <td>Android</td>\n",
       "      <td>90979</td>\n",
       "      <td>61389079.00</td>\n",
       "      <td>674.76</td>\n",
       "    </tr>\n",
       "    <tr>\n",
       "      <th>2</th>\n",
       "      <td>Other</td>\n",
       "      <td>5672</td>\n",
       "      <td>3629613.00</td>\n",
       "      <td>639.92</td>\n",
       "    </tr>\n",
       "  </tbody>\n",
       "</table>\n",
       "</div>"
      ],
      "text/plain": [
       "    device  logins_1_lt  revenue_7_days  Mean_Profit\n",
       "1    MacOS        11383     21777264.00      1913.14\n",
       "3  Windows        33738     37141134.00      1100.87\n",
       "4      iOS        58027     62242430.00      1072.65\n",
       "0  Android        90979     61389079.00       674.76\n",
       "2    Other         5672      3629613.00       639.92"
      ]
     },
     "execution_count": 69,
     "metadata": {},
     "output_type": "execute_result"
    }
   ],
   "source": [
    "df_mean_profit.sort_values(by='Mean_Profit', ascending=False)"
   ]
  },
  {
   "cell_type": "code",
   "execution_count": 70,
   "metadata": {},
   "outputs": [
    {
     "data": {
      "text/plain": [
       "([<matplotlib.patches.Wedge at 0x1243f0190>,\n",
       "  <matplotlib.patches.Wedge at 0x1243ab850>,\n",
       "  <matplotlib.patches.Wedge at 0x1243f0eb0>,\n",
       "  <matplotlib.patches.Wedge at 0x1243f1540>,\n",
       "  <matplotlib.patches.Wedge at 0x1243f1bd0>],\n",
       " [Text(0.48642263304795097, 0.9866068224265928, 'MacOS'),\n",
       "  Text(-1.0584271863856125, 0.2995528185810242, 'Windows'),\n",
       "  Text(-0.6050433462574505, -0.9186525726027152, 'iOS'),\n",
       "  Text(0.46249214184066345, -0.9980486053973704, 'Android'),\n",
       "  Text(1.0246833438315928, -0.40003005496350635, 'Other')],\n",
       " [Text(0.2653214362079732, 0.5381491758690505, '35.4%'),\n",
       "  Text(-0.5773239198466977, 0.1633924464987405, '20.4%'),\n",
       "  Text(-0.33002364341315477, -0.5010832214196628, '19.9%'),\n",
       "  Text(0.2522684410039982, -0.5443901483985656, '12.5%'),\n",
       "  Text(0.5589181875445051, -0.21819821179827617, '11.8%')])"
      ]
     },
     "execution_count": 70,
     "metadata": {},
     "output_type": "execute_result"
    },
    {
     "data": {
      "image/png": "[encoded data removed]",
      "text/plain": [
       "<Figure size 640x480 with 1 Axes>"
      ]
     },
     "metadata": {},
     "output_type": "display_data"
    }
   ],
   "source": [
    "labels = 'MacOS', 'Windows', 'iOS', 'Android', 'Other'\n",
    "sizes = [1913.14, 1100.87, 1072.65, 674.76, 639.92]\n",
    "\n",
    "fig, ax = plt.subplots()\n",
    "ax.pie(sizes, labels=labels, autopct='%1.1f%%')"
   ]
  },
  {
   "cell_type": "code",
   "execution_count": 71,
   "metadata": {},
   "outputs": [
    {
     "data": {
      "text/html": [
       "<div>\n",
       "<style scoped>\n",
       "    .dataframe tbody tr th:only-of-type {\n",
       "        vertical-align: middle;\n",
       "    }\n",
       "\n",
       "    .dataframe tbody tr th {\n",
       "        vertical-align: top;\n",
       "    }\n",
       "\n",
       "    .dataframe thead th {\n",
       "        text-align: right;\n",
       "    }\n",
       "</style>\n",
       "<table border=\"1\" class=\"dataframe\">\n",
       "  <thead>\n",
       "    <tr style=\"text-align: right;\">\n",
       "      <th></th>\n",
       "      <th>device</th>\n",
       "      <th>logins_7_lt</th>\n",
       "      <th>revenue_7_days</th>\n",
       "      <th>Mean_Profit</th>\n",
       "    </tr>\n",
       "  </thead>\n",
       "  <tbody>\n",
       "    <tr>\n",
       "      <th>1</th>\n",
       "      <td>MacOS</td>\n",
       "      <td>4311</td>\n",
       "      <td>21777264.00</td>\n",
       "      <td>5051.56</td>\n",
       "    </tr>\n",
       "    <tr>\n",
       "      <th>4</th>\n",
       "      <td>iOS</td>\n",
       "      <td>18380</td>\n",
       "      <td>62242430.00</td>\n",
       "      <td>3386.42</td>\n",
       "    </tr>\n",
       "    <tr>\n",
       "      <th>3</th>\n",
       "      <td>Windows</td>\n",
       "      <td>14246</td>\n",
       "      <td>37141134.00</td>\n",
       "      <td>2607.13</td>\n",
       "    </tr>\n",
       "    <tr>\n",
       "      <th>0</th>\n",
       "      <td>Android</td>\n",
       "      <td>32200</td>\n",
       "      <td>61389079.00</td>\n",
       "      <td>1906.49</td>\n",
       "    </tr>\n",
       "    <tr>\n",
       "      <th>2</th>\n",
       "      <td>Other</td>\n",
       "      <td>2069</td>\n",
       "      <td>3629613.00</td>\n",
       "      <td>1754.28</td>\n",
       "    </tr>\n",
       "  </tbody>\n",
       "</table>\n",
       "</div>"
      ],
      "text/plain": [
       "    device  logins_7_lt  revenue_7_days  Mean_Profit\n",
       "1    MacOS         4311     21777264.00      5051.56\n",
       "4      iOS        18380     62242430.00      3386.42\n",
       "3  Windows        14246     37141134.00      2607.13\n",
       "0  Android        32200     61389079.00      1906.49\n",
       "2    Other         2069      3629613.00      1754.28"
      ]
     },
     "execution_count": 71,
     "metadata": {},
     "output_type": "execute_result"
    }
   ],
   "source": [
    "df_mean_profit = df.groupby('device').agg({'logins_7_lt': 'sum', 'revenue_7_days': 'sum'}).reset_index()\n",
    "df_mean_profit['Mean_Profit'] = df_mean_profit.revenue_7_days / df_mean_profit.logins_7_lt\n",
    "df_mean_profit.sort_values(by='Mean_Profit', ascending=False)"
   ]
  },
  {
   "attachments": {},
   "cell_type": "markdown",
   "metadata": {},
   "source": [
    "## ARPU (Average Revenue Per User) is the average revenue received from one user."
   ]
  },
  {
   "cell_type": "code",
   "execution_count": 87,
   "metadata": {},
   "outputs": [],
   "source": [
    "df_ARPU = df.groupby(['traffic_type', 'age_group']).agg({'revenue_7_days': 'sum', 'registrations': 'sum'}).sort_values(by='revenue_7_days', ascending=False).reset_index()"
   ]
  },
  {
   "cell_type": "code",
   "execution_count": 88,
   "metadata": {},
   "outputs": [],
   "source": [
    "df_ARPU['ARPU'] = df_ARPU.revenue_7_days/df_ARPU.registrations"
   ]
  },
  {
   "cell_type": "code",
   "execution_count": 89,
   "metadata": {},
   "outputs": [
    {
     "data": {
      "text/html": [
       "<div>\n",
       "<style scoped>\n",
       "    .dataframe tbody tr th:only-of-type {\n",
       "        vertical-align: middle;\n",
       "    }\n",
       "\n",
       "    .dataframe tbody tr th {\n",
       "        vertical-align: top;\n",
       "    }\n",
       "\n",
       "    .dataframe thead th {\n",
       "        text-align: right;\n",
       "    }\n",
       "</style>\n",
       "<table border=\"1\" class=\"dataframe\">\n",
       "  <thead>\n",
       "    <tr style=\"text-align: right;\">\n",
       "      <th></th>\n",
       "      <th>traffic_type</th>\n",
       "      <th>age_group</th>\n",
       "      <th>revenue_7_days</th>\n",
       "      <th>registrations</th>\n",
       "      <th>ARPU</th>\n",
       "    </tr>\n",
       "  </thead>\n",
       "  <tbody>\n",
       "    <tr>\n",
       "      <th>0</th>\n",
       "      <td>Google Search</td>\n",
       "      <td>55+</td>\n",
       "      <td>47611752.00</td>\n",
       "      <td>94310</td>\n",
       "      <td>504.84</td>\n",
       "    </tr>\n",
       "    <tr>\n",
       "      <th>1</th>\n",
       "      <td>Google Search</td>\n",
       "      <td>35-55</td>\n",
       "      <td>45177907.00</td>\n",
       "      <td>117890</td>\n",
       "      <td>383.22</td>\n",
       "    </tr>\n",
       "    <tr>\n",
       "      <th>2</th>\n",
       "      <td>Facebook</td>\n",
       "      <td>55+</td>\n",
       "      <td>29003408.00</td>\n",
       "      <td>141392</td>\n",
       "      <td>205.13</td>\n",
       "    </tr>\n",
       "    <tr>\n",
       "      <th>3</th>\n",
       "      <td>Facebook</td>\n",
       "      <td>35-55</td>\n",
       "      <td>24983616.00</td>\n",
       "      <td>136970</td>\n",
       "      <td>182.40</td>\n",
       "    </tr>\n",
       "    <tr>\n",
       "      <th>4</th>\n",
       "      <td>Google Search</td>\n",
       "      <td>35-</td>\n",
       "      <td>13475805.00</td>\n",
       "      <td>74601</td>\n",
       "      <td>180.64</td>\n",
       "    </tr>\n",
       "    <tr>\n",
       "      <th>5</th>\n",
       "      <td>Google Media</td>\n",
       "      <td>55+</td>\n",
       "      <td>11272185.00</td>\n",
       "      <td>269273</td>\n",
       "      <td>41.86</td>\n",
       "    </tr>\n",
       "    <tr>\n",
       "      <th>6</th>\n",
       "      <td>Google Media</td>\n",
       "      <td>35-55</td>\n",
       "      <td>5908922.00</td>\n",
       "      <td>219066</td>\n",
       "      <td>26.97</td>\n",
       "    </tr>\n",
       "    <tr>\n",
       "      <th>7</th>\n",
       "      <td>Google Media</td>\n",
       "      <td>35-</td>\n",
       "      <td>4872808.00</td>\n",
       "      <td>404830</td>\n",
       "      <td>12.04</td>\n",
       "    </tr>\n",
       "    <tr>\n",
       "      <th>8</th>\n",
       "      <td>Facebook</td>\n",
       "      <td>35-</td>\n",
       "      <td>3873117.00</td>\n",
       "      <td>29632</td>\n",
       "      <td>130.71</td>\n",
       "    </tr>\n",
       "  </tbody>\n",
       "</table>\n",
       "</div>"
      ],
      "text/plain": [
       "    traffic_type age_group  revenue_7_days  registrations   ARPU\n",
       "0  Google Search       55+     47611752.00          94310 504.84\n",
       "1  Google Search     35-55     45177907.00         117890 383.22\n",
       "2       Facebook       55+     29003408.00         141392 205.13\n",
       "3       Facebook     35-55     24983616.00         136970 182.40\n",
       "4  Google Search       35-     13475805.00          74601 180.64\n",
       "5   Google Media       55+     11272185.00         269273  41.86\n",
       "6   Google Media     35-55      5908922.00         219066  26.97\n",
       "7   Google Media       35-      4872808.00         404830  12.04\n",
       "8       Facebook       35-      3873117.00          29632 130.71"
      ]
     },
     "execution_count": 89,
     "metadata": {},
     "output_type": "execute_result"
    }
   ],
   "source": [
    "df_ARPU"
   ]
  },
  {
   "attachments": {},
   "cell_type": "markdown",
   "metadata": {},
   "source": [
    "### In this case, we can see avg revenue for one week made by the 55+ category, and it's equal to 504,84 with 94310 registrations and the least profit from Facebook with their 29632 registrations but 130,71 profit"
   ]
  },
  {
   "attachments": {},
   "cell_type": "markdown",
   "metadata": {},
   "source": [
    "# According to analysis:\n",
    "<ol>Google Search is the most profitable traffic type according to the analyse</ol>\n",
    "<ol>The age category 55+ brought the most profit this week</ol>\n",
    "<ol>Users using Apple Inc. equipment is ordered 2 times more often than users who use the Windows system and the Android system on their phones.</ol>\n",
    "<ol>ROI (Return on Invesments) metrics show that Google Media is the least profitable resource and Google Search is the most profitable.</ol>\n",
    "<ol>CPL (Cost Per Lead) metrics shows the most expensive and effective resource to attract user is Google Search instead of Facebook or Google Media</ol>\n",
    "<ol>ARPU (Average Revenue Per User) metrics shows average revenue from one user and result is via Google Search in the category 55+\ttotal revenue for 7 days is 47611752.00\twith 94310 registrations and the average profit is 504.84</ol>\n",
    "\n",
    "\n"
   ]
  }
 ],
 "metadata": {
  "kernelspec": {
   "display_name": "Python 3 (ipykernel)",
   "language": "python",
   "name": "python3"
  },
  "language_info": {
   "codemirror_mode": {
    "name": "ipython",
    "version": 3
   },
   "file_extension": ".py",
   "mimetype": "text/x-python",
   "name": "python",
   "nbconvert_exporter": "python",
   "pygments_lexer": "ipython3",
   "version": "3.10.10"
  }
 },
 "nbformat": 4,
 "nbformat_minor": 2
}
