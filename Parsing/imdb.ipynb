{
 "cells": [
  {
   "cell_type": "code",
   "execution_count": 57,
   "metadata": {},
   "outputs": [],
   "source": [
    "import pandas as pd\n",
    "from bs4 import BeautifulSoup\n",
    "import requests"
   ]
  },
  {
   "cell_type": "code",
   "execution_count": 58,
   "metadata": {},
   "outputs": [],
   "source": [
    "headers = {\n",
    "    'Accept': '*/*',\n",
    "    'User-Agent': 'Mozilla/5.0 (Macintosh; Intel Mac OS X 10_15_7) AppleWebKit/537.36 (KHTML, like Gecko) Chrome/116.0.0.0 Safari/537.36'\n",
    "}"
   ]
  },
  {
   "cell_type": "code",
   "execution_count": 59,
   "metadata": {},
   "outputs": [],
   "source": [
    "url = \"https://www.imdb.com/chart/moviemeter/?ref_=nv_mv_mpm\""
   ]
  },
  {
   "cell_type": "code",
   "execution_count": 60,
   "metadata": {},
   "outputs": [],
   "source": [
    "req = requests.get(url, headers=headers)"
   ]
  },
  {
   "cell_type": "code",
   "execution_count": 61,
   "metadata": {},
   "outputs": [],
   "source": [
    "soup = BeautifulSoup(req.text, 'html.parser')"
   ]
  },
  {
   "cell_type": "code",
   "execution_count": 62,
   "metadata": {},
   "outputs": [],
   "source": [
    "item = soup.find(class_='sc-b51a3d33-0')"
   ]
  },
  {
   "cell_type": "code",
   "execution_count": 63,
   "metadata": {},
   "outputs": [
    {
     "data": {
      "text/plain": [
       "'Barbie'"
      ]
     },
     "execution_count": 63,
     "metadata": {},
     "output_type": "execute_result"
    }
   ],
   "source": [
    "item.find(class_='ipc-title').text"
   ]
  },
  {
   "cell_type": "code",
   "execution_count": 64,
   "metadata": {},
   "outputs": [
    {
     "data": {
      "text/plain": [
       "'7.2(315K)'"
      ]
     },
     "execution_count": 64,
     "metadata": {},
     "output_type": "execute_result"
    }
   ],
   "source": [
    "item.find(class_='ratingGroup--imdb-rating').text.replace('\\xa0', '')\n"
   ]
  },
  {
   "cell_type": "code",
   "execution_count": 65,
   "metadata": {},
   "outputs": [
    {
     "data": {
      "text/plain": [
       "<a class=\"ipc-title-link-wrapper\" href=\"/title/tt1517268/?ref_=chtmvm_t_1\" tabindex=\"0\"><h3 class=\"ipc-title__text\">Barbie</h3></a>"
      ]
     },
     "execution_count": 65,
     "metadata": {},
     "output_type": "execute_result"
    }
   ],
   "source": [
    "item.find(class_=\"ipc-title-link-wrapper\")"
   ]
  },
  {
   "cell_type": "code",
   "execution_count": 66,
   "metadata": {},
   "outputs": [],
   "source": [
    "dct = {\n",
    "    'title': [],\n",
    "    'rating': [],\n",
    "    'link': []\n",
    "}\n",
    "\n",
    "for item in soup.find_all(class_='sc-b51a3d33-0'):\n",
    "    title_element = item.find(class_='ipc-title__text')\n",
    "    rating_element = item.find(class_='ratingGroup--imdb-rating')\n",
    "\n",
    "    if title_element:\n",
    "        title = title_element.text\n",
    "    else:\n",
    "        title = \"Title Not Found\"\n",
    "\n",
    "    if rating_element:\n",
    "        rating = rating_element.text.replace('\\xa0', '')\n",
    "    else:\n",
    "        rating = \"Rating Not Found\"\n",
    "    \n",
    "    link = 'https://www.imdb.com/' + item.find('a').get('href')\n",
    "\n",
    "    dct['title'].append(title)\n",
    "    dct['rating'].append(rating)\n",
    "    dct['link'].append(link)\n",
    "\n"
   ]
  },
  {
   "cell_type": "code",
   "execution_count": 67,
   "metadata": {},
   "outputs": [],
   "source": [
    "df = pd.DataFrame(dct)"
   ]
  },
  {
   "cell_type": "code",
   "execution_count": 68,
   "metadata": {},
   "outputs": [],
   "source": [
    "df.to_excel('imdb.xlsx', index=False)"
   ]
  },
  {
   "cell_type": "code",
   "execution_count": 69,
   "metadata": {},
   "outputs": [],
   "source": [
    "dct = {\n",
    "    'ranking': [],\n",
    "    'title': [],\n",
    "    'rating': [],\n",
    "    'link': []\n",
    "}\n",
    "\n",
    "\n",
    "url = 'https://www.imdb.com/chart/moviemeter/?ref_=nv_mv_mpm'\n",
    "req = requests.get(url, headers=headers)\n",
    "soup = BeautifulSoup(req.text)\n",
    "    \n",
    "dct = {\n",
    "    'title': [],\n",
    "    'rating': [],\n",
    "    'link': []\n",
    "}\n",
    "\n",
    "for item in soup.find_all(class_='sc-b51a3d33-0'):\n",
    "    title_element = item.find(class_='ipc-title__text')\n",
    "    rating_element = item.find(class_='ratingGroup--imdb-rating')\n",
    "\n",
    "    if title_element:\n",
    "        title = title_element.text\n",
    "    else:\n",
    "        title = \"Title Not Found\"\n",
    "\n",
    "    if rating_element:\n",
    "        rating = rating_element.text.replace('\\xa0', '')\n",
    "    else:\n",
    "        rating = \"Rating Not Found\"\n",
    "    \n",
    "    link = 'https://www.imdb.com/' + item.find('a').get('href')\n",
    "\n",
    "    dct['title'].append(title)\n",
    "    dct['rating'].append(rating)\n",
    "    dct['link'].append(link)\n"
   ]
  },
  {
   "cell_type": "code",
   "execution_count": 70,
   "metadata": {},
   "outputs": [],
   "source": [
    "df = pd.DataFrame(dct)"
   ]
  },
  {
   "cell_type": "code",
   "execution_count": 71,
   "metadata": {},
   "outputs": [
    {
     "data": {
      "text/html": [
       "<div>\n",
       "<style scoped>\n",
       "    .dataframe tbody tr th:only-of-type {\n",
       "        vertical-align: middle;\n",
       "    }\n",
       "\n",
       "    .dataframe tbody tr th {\n",
       "        vertical-align: top;\n",
       "    }\n",
       "\n",
       "    .dataframe thead th {\n",
       "        text-align: right;\n",
       "    }\n",
       "</style>\n",
       "<table border=\"1\" class=\"dataframe\">\n",
       "  <thead>\n",
       "    <tr style=\"text-align: right;\">\n",
       "      <th></th>\n",
       "      <th>title</th>\n",
       "      <th>rating</th>\n",
       "      <th>link</th>\n",
       "    </tr>\n",
       "  </thead>\n",
       "  <tbody>\n",
       "    <tr>\n",
       "      <th>0</th>\n",
       "      <td>Barbie</td>\n",
       "      <td>7.2(315K)</td>\n",
       "      <td>https://www.imdb.com//title/tt1517268/?ref_=ch...</td>\n",
       "    </tr>\n",
       "    <tr>\n",
       "      <th>1</th>\n",
       "      <td>The Little Mermaid</td>\n",
       "      <td>7.2(127K)</td>\n",
       "      <td>https://www.imdb.com//title/tt5971474/?ref_=ch...</td>\n",
       "    </tr>\n",
       "    <tr>\n",
       "      <th>2</th>\n",
       "      <td>The Nun II</td>\n",
       "      <td>5.9(14K)</td>\n",
       "      <td>https://www.imdb.com//title/tt10160976/?ref_=c...</td>\n",
       "    </tr>\n",
       "    <tr>\n",
       "      <th>3</th>\n",
       "      <td>A Haunting in Venice</td>\n",
       "      <td>6.8(8.9K)</td>\n",
       "      <td>https://www.imdb.com//title/tt22687790/?ref_=c...</td>\n",
       "    </tr>\n",
       "    <tr>\n",
       "      <th>4</th>\n",
       "      <td>Talk to Me</td>\n",
       "      <td>7.3(49K)</td>\n",
       "      <td>https://www.imdb.com//title/tt10638522/?ref_=c...</td>\n",
       "    </tr>\n",
       "    <tr>\n",
       "      <th>...</th>\n",
       "      <td>...</td>\n",
       "      <td>...</td>\n",
       "      <td>...</td>\n",
       "    </tr>\n",
       "    <tr>\n",
       "      <th>95</th>\n",
       "      <td>Last Night in Soho</td>\n",
       "      <td>7.0(160K)</td>\n",
       "      <td>https://www.imdb.com//title/tt9639470/?ref_=ch...</td>\n",
       "    </tr>\n",
       "    <tr>\n",
       "      <th>96</th>\n",
       "      <td>The Whale</td>\n",
       "      <td>7.7(178K)</td>\n",
       "      <td>https://www.imdb.com//title/tt13833688/?ref_=c...</td>\n",
       "    </tr>\n",
       "    <tr>\n",
       "      <th>97</th>\n",
       "      <td>Trolls Band Together</td>\n",
       "      <td>Rating Not Found</td>\n",
       "      <td>https://www.imdb.com//title/tt14362112/?ref_=c...</td>\n",
       "    </tr>\n",
       "    <tr>\n",
       "      <th>98</th>\n",
       "      <td>The Conjuring</td>\n",
       "      <td>7.5(535K)</td>\n",
       "      <td>https://www.imdb.com//title/tt1457767/?ref_=ch...</td>\n",
       "    </tr>\n",
       "    <tr>\n",
       "      <th>99</th>\n",
       "      <td>Raiders of the Lost Ark</td>\n",
       "      <td>8.4(1M)</td>\n",
       "      <td>https://www.imdb.com//title/tt0082971/?ref_=ch...</td>\n",
       "    </tr>\n",
       "  </tbody>\n",
       "</table>\n",
       "<p>100 rows × 3 columns</p>\n",
       "</div>"
      ],
      "text/plain": [
       "                      title            rating  \\\n",
       "0                    Barbie         7.2(315K)   \n",
       "1        The Little Mermaid         7.2(127K)   \n",
       "2                The Nun II          5.9(14K)   \n",
       "3      A Haunting in Venice         6.8(8.9K)   \n",
       "4                Talk to Me          7.3(49K)   \n",
       "..                      ...               ...   \n",
       "95       Last Night in Soho         7.0(160K)   \n",
       "96                The Whale         7.7(178K)   \n",
       "97     Trolls Band Together  Rating Not Found   \n",
       "98            The Conjuring         7.5(535K)   \n",
       "99  Raiders of the Lost Ark           8.4(1M)   \n",
       "\n",
       "                                                 link  \n",
       "0   https://www.imdb.com//title/tt1517268/?ref_=ch...  \n",
       "1   https://www.imdb.com//title/tt5971474/?ref_=ch...  \n",
       "2   https://www.imdb.com//title/tt10160976/?ref_=c...  \n",
       "3   https://www.imdb.com//title/tt22687790/?ref_=c...  \n",
       "4   https://www.imdb.com//title/tt10638522/?ref_=c...  \n",
       "..                                                ...  \n",
       "95  https://www.imdb.com//title/tt9639470/?ref_=ch...  \n",
       "96  https://www.imdb.com//title/tt13833688/?ref_=c...  \n",
       "97  https://www.imdb.com//title/tt14362112/?ref_=c...  \n",
       "98  https://www.imdb.com//title/tt1457767/?ref_=ch...  \n",
       "99  https://www.imdb.com//title/tt0082971/?ref_=ch...  \n",
       "\n",
       "[100 rows x 3 columns]"
      ]
     },
     "execution_count": 71,
     "metadata": {},
     "output_type": "execute_result"
    }
   ],
   "source": [
    "df"
   ]
  },
  {
   "cell_type": "code",
   "execution_count": 72,
   "metadata": {},
   "outputs": [],
   "source": [
    "df.to_excel('imdb.xlsx', index=True)"
   ]
  }
 ],
 "metadata": {
  "kernelspec": {
   "display_name": "Python 3",
   "language": "python",
   "name": "python3"
  },
  "language_info": {
   "codemirror_mode": {
    "name": "ipython",
    "version": 3
   },
   "file_extension": ".py",
   "mimetype": "text/x-python",
   "name": "python",
   "nbconvert_exporter": "python",
   "pygments_lexer": "ipython3",
   "version": "3.10.10"
  },
  "orig_nbformat": 4
 },
 "nbformat": 4,
 "nbformat_minor": 2
}
